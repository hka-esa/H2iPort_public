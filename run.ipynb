{
 "cells": [
  {
   "cell_type": "markdown",
   "id": "46511ec8",
   "metadata": {},
   "source": [
    "## Projekt import"
   ]
  },
  {
   "cell_type": "code",
   "execution_count": null,
   "id": "b1ca5917",
   "metadata": {
    "ExecuteTime": {
     "end_time": "2023-06-13T08:59:08.661494Z",
     "start_time": "2023-06-13T08:59:06.361685Z"
    },
    "scrolled": false
   },
   "outputs": [],
   "source": [
    "import types\n",
    "import pandas as pd\n",
    "import draf\n",
    "from pathlib import Path\n",
    "from h2iport import util, prep, paths\n",
    "from h2iport.components import *\n",
    "from h2iport.config import Config, get_dotmap_from_yml\n",
    "import plotly.express as px\n",
    "\n",
    "draf.Scenario.make_sankey_string_from_collectors = util.my_sankey_builder\n",
    "\n",
    "cf = Config.cf\n",
    "\n",
    "cf.consumer_data = get_dotmap_from_yml(paths.DATA_DIR / \"conf2023/consumer_data_state.yml\")\n",
    "\n",
    "coords = tuple(cf.main.coords)\n",
    "components = [BES, Con, Dem, DHN, EG, EHP, Elc, HDS, Pip, Lan, Main, OnPV, PV, TES, Tra, WT, PPA, REC]"
   ]
  },
  {
   "cell_type": "markdown",
   "id": "beef2415",
   "metadata": {},
   "source": [
    "## Projekt optimization"
   ]
  },
  {
   "cell_type": "code",
   "execution_count": null,
   "id": "591c5ec1",
   "metadata": {},
   "outputs": [],
   "source": [
    "cf.projections.years"
   ]
  },
  {
   "cell_type": "code",
   "execution_count": null,
   "id": "533d52c1",
   "metadata": {},
   "outputs": [],
   "source": [
    "cf.consumer_data"
   ]
  },
  {
   "cell_type": "code",
   "execution_count": null,
   "id": "1a37aa19",
   "metadata": {},
   "outputs": [],
   "source": [
    "cf.comp.Lan"
   ]
  },
  {
   "cell_type": "code",
   "execution_count": null,
   "id": "43d3c1fb",
   "metadata": {},
   "outputs": [],
   "source": [
    "cf.main.landing_settings.ships_per_day[2027]"
   ]
  },
  {
   "cell_type": "code",
   "execution_count": null,
   "id": "83c5095b",
   "metadata": {
    "ExecuteTime": {
     "end_time": "2023-06-08T11:56:47.716197Z",
     "start_time": "2023-06-08T11:56:44.841192Z"
    },
    "scrolled": false
   },
   "outputs": [],
   "source": [
    "cs = draf.CaseStudy(f\"h2iport\", year=2019, freq=\"60min\", coords=coords, consider_invest=True)\n",
    "#cs.set_time_horizon(start=\"Jan-1 00:00\", steps=cs.steps_per_day * 30 * 2)\n",
    "sc = cs.add_REF_scen(components=components)"
   ]
  },
  {
   "cell_type": "code",
   "execution_count": null,
   "id": "d10042a9",
   "metadata": {
    "ExecuteTime": {
     "end_time": "2023-06-08T11:56:47.739547Z",
     "start_time": "2023-06-08T11:56:47.721746Z"
    }
   },
   "outputs": [],
   "source": [
    "# show total demand\n",
    "sc.params.dH_Dem_TYAR.unstack(2).sum()"
   ]
  },
  {
   "cell_type": "code",
   "execution_count": null,
   "id": "83e3cec8",
   "metadata": {
    "ExecuteTime": {
     "end_time": "2023-06-08T11:57:25.461108Z",
     "start_time": "2023-06-08T11:56:47.742508Z"
    },
    "scrolled": false
   },
   "outputs": [],
   "source": [
    "cs.optimize(solver_params=dict(MIPGap=0.01))\n",
    "# sc.export_model()\n",
    "\n",
    "cs.save()"
   ]
  },
  {
   "cell_type": "code",
   "execution_count": null,
   "id": "d6976ed7",
   "metadata": {
    "ExecuteTime": {
     "end_time": "2023-06-08T12:04:09.674859Z",
     "start_time": "2023-06-08T12:04:09.397920Z"
    }
   },
   "outputs": [],
   "source": [
    "cs.plot.sankey_interact()"
   ]
  },
  {
   "cell_type": "code",
   "execution_count": null,
   "id": "e5195380",
   "metadata": {
    "scrolled": false
   },
   "outputs": [],
   "source": [
    "sc.collector_values"
   ]
  },
  {
   "cell_type": "code",
   "execution_count": null,
   "id": "4de5e868",
   "metadata": {
    "ExecuteTime": {
     "end_time": "2023-06-08T11:57:25.525270Z",
     "start_time": "2023-06-08T11:57:25.484609Z"
    },
    "scrolled": false
   },
   "outputs": [],
   "source": [
    "cs.plot()"
   ]
  },
  {
   "cell_type": "code",
   "execution_count": null,
   "id": "773df957",
   "metadata": {},
   "outputs": [],
   "source": [
    "cf.projections.default_year"
   ]
  },
  {
   "cell_type": "code",
   "execution_count": null,
   "id": "d1f8268d",
   "metadata": {
    "scrolled": true
   },
   "outputs": [],
   "source": [
    "sc.vars.dQ_EHP_CAPn_Y"
   ]
  },
  {
   "cell_type": "code",
   "execution_count": null,
   "id": "975ca135",
   "metadata": {},
   "outputs": [],
   "source": [
    "a = sc.vars.P_PV_OC_TY.values()\n",
    "b = sc.vars.P_PV_FI_TY.values()\n",
    "u = 0\n",
    "for i in range(0,(2*8760)):\n",
    "    if u < (a[i].x + b[i].x):\n",
    "        u = (a[i].x + b[i].x)\n",
    "u"
   ]
  },
  {
   "cell_type": "markdown",
   "id": "0cc6b5d5",
   "metadata": {},
   "source": [
    "## If closed"
   ]
  },
  {
   "cell_type": "markdown",
   "id": "d70b11f9",
   "metadata": {},
   "source": [
    "### Load latest"
   ]
  },
  {
   "cell_type": "code",
   "execution_count": null,
   "id": "d639255e",
   "metadata": {},
   "outputs": [],
   "source": [
    "cs = draf.open_latest_casestudy(\"h2iport\")"
   ]
  },
  {
   "cell_type": "code",
   "execution_count": null,
   "id": "143dd63b",
   "metadata": {},
   "outputs": [],
   "source": [
    "sc = cs.scens.REF"
   ]
  },
  {
   "cell_type": "markdown",
   "id": "65d9473f",
   "metadata": {},
   "source": [
    "### Load version"
   ]
  },
  {
   "cell_type": "code",
   "execution_count": null,
   "id": "d4ad0497",
   "metadata": {},
   "outputs": [],
   "source": [
    "import draf.paths as pa"
   ]
  },
  {
   "cell_type": "code",
   "execution_count": null,
   "id": "90722331",
   "metadata": {},
   "outputs": [],
   "source": [
    "cs = draf.open_casestudy(pa.RESULTS_DIR / R\"h2iport/XXX.p\")"
   ]
  },
  {
   "cell_type": "code",
   "execution_count": null,
   "id": "3230d1cd",
   "metadata": {},
   "outputs": [],
   "source": [
    "sc = cs.scens.REF"
   ]
  },
  {
   "cell_type": "markdown",
   "id": "0a7be379",
   "metadata": {},
   "source": [
    "## Plottings"
   ]
  },
  {
   "cell_type": "markdown",
   "id": "b9e97cc3",
   "metadata": {},
   "source": [
    "### Plot Base"
   ]
  },
  {
   "cell_type": "code",
   "execution_count": null,
   "id": "eaab4d2c",
   "metadata": {},
   "outputs": [],
   "source": [
    "cs.plot()"
   ]
  },
  {
   "cell_type": "code",
   "execution_count": null,
   "id": "56d3c911",
   "metadata": {
    "scrolled": false
   },
   "outputs": [],
   "source": [
    "cs.plot.sankey_interact()"
   ]
  },
  {
   "cell_type": "markdown",
   "id": "a18049ad",
   "metadata": {},
   "source": [
    "### Electricity demand Rheinhafen"
   ]
  },
  {
   "cell_type": "code",
   "execution_count": null,
   "id": "b74526f1",
   "metadata": {},
   "outputs": [],
   "source": [
    "year = 2030"
   ]
  },
  {
   "cell_type": "markdown",
   "id": "b0d95149",
   "metadata": {},
   "source": [
    "With EHP"
   ]
  },
  {
   "cell_type": "code",
   "execution_count": null,
   "id": "945679d5",
   "metadata": {},
   "outputs": [],
   "source": [
    "df = pd.concat([cs.scens.REF.res.P_BES_in_TY[:,year],cs.scens.REF.res.P_EHP_TYEC[:,year,\"Elc\",\"DHN_winter\"],cs.scens.REF.res.P_EHP_TYEC[:,year,\"Elc\",\"DHN_summer\"],cs.scens.REF.res.P_EHP_TYEC[:,year,\"amb\",\"DHN_winter\"],cs.scens.REF.res.P_EHP_TYEC[:,year,\"amb\",\"DHN_summer\"],cs.scens.REF.res.P_EHP_TYEC[:,year,\"rhine_water\",\"DHN_winter\"],cs.scens.REF.res.P_EHP_TYEC[:,year,\"rhine_water\",\"DHN_summer\"],cs.scens.REF.res.P_Elc_TY[:,year],cs.scens.REF.res.dH_Con_out_TYRR[:,year,\"CH2\",\"NH3\"]*cs.scens.REF.params.k_Con_el_RR[\"CH2\",\"NH3\"],cs.scens.REF.res.dH_Con_out_TYRR[:,year,\"NH3\",\"CH2\"]*cs.scens.REF.params.k_Con_el_RR[\"NH3\",\"CH2\"]],axis=1)"
   ]
  },
  {
   "cell_type": "markdown",
   "id": "92cba306",
   "metadata": {},
   "source": [
    "Without EHP"
   ]
  },
  {
   "cell_type": "code",
   "execution_count": null,
   "id": "ea33dc6e",
   "metadata": {},
   "outputs": [],
   "source": [
    "df = pd.concat([cs.scens.REF.res.P_BES_in_TY[:,year],cs.scens.REF.res.P_Elc_TY[:,year],cs.scens.REF.res.dH_Con_out_TYRR[:,year,\"CH2\",\"NH3\"]*cs.scens.REF.params.k_Con_el_RR[\"CH2\",\"NH3\"],cs.scens.REF.res.dH_Con_out_TYRR[:,year,\"NH3\",\"CH2\"]*cs.scens.REF.params.k_Con_el_RR[\"NH3\",\"CH2\"]],axis=1)"
   ]
  },
  {
   "cell_type": "code",
   "execution_count": null,
   "id": "09d9e7c0",
   "metadata": {},
   "outputs": [],
   "source": [
    "df.plot.bar(stacked = True)"
   ]
  },
  {
   "cell_type": "markdown",
   "id": "84936fe0",
   "metadata": {},
   "source": [
    "### Show costs per year"
   ]
  },
  {
   "cell_type": "code",
   "execution_count": null,
   "id": "85ef4b23",
   "metadata": {},
   "outputs": [],
   "source": [
    "res = util.get_price_per_year(self=sc, year=2027)"
   ]
  },
  {
   "cell_type": "code",
   "execution_count": null,
   "id": "7197489b",
   "metadata": {},
   "outputs": [],
   "source": [
    "tot = (res[\"C_TOT_op_sum_\"] + res[\"C_TOT_RMI_sum_\"] + res[\"C_TOT_invAnn_sum_\"]) * 1000\n",
    "print(\"Operation: \" +str(res[\"C_TOT_op_sum_\"]* 1000))\n",
    "print(\"Repair:    \" +str(res[\"C_TOT_RMI_sum_\"]* 1000))\n",
    "print(\"Invest:    \" +str(res[\"C_TOT_invAnn_sum_\"]* 1000))\n",
    "print(\"Total:     \" +str(tot))"
   ]
  },
  {
   "cell_type": "code",
   "execution_count": null,
   "id": "c74392d0",
   "metadata": {},
   "outputs": [],
   "source": [
    "demand = res[\"DH_Dem\"][\"Total\"]\n",
    "print(demand)"
   ]
  },
  {
   "cell_type": "code",
   "execution_count": null,
   "id": "876f929d",
   "metadata": {
    "scrolled": true
   },
   "outputs": [],
   "source": [
    "Euro_per_H2 = tot/demand\n",
    "print(\"EUR/kWh: \" +str(Euro_per_H2))\n",
    "print(\"EUR/kG:  \" +str(Euro_per_H2*33.3))"
   ]
  },
  {
   "cell_type": "markdown",
   "id": "04a6b68e",
   "metadata": {},
   "source": [
    "### Show cost developmet of H2 in one chart"
   ]
  },
  {
   "cell_type": "code",
   "execution_count": null,
   "id": "4c3efcc6",
   "metadata": {},
   "outputs": [],
   "source": [
    "y_ref_ = sc.params.y_ref_\n",
    "years = sc.dims.Y\n",
    "k__r_ = sc.params.k__r_\n",
    "vals1 = {}\n",
    "vals2 = {}\n",
    "for year in years:\n",
    "    res = util.get_price_per_year(self=sc, year=year)\n",
    "    vals1[year] = ((res[\"C_TOT_op_sum_\"] + res[\"C_TOT_RMI_sum_\"] + res[\"C_TOT_invAnn_sum_\"]) * 33300)/res[\"DH_Dem\"][\"Total\"]\n",
    "    vals2[year] = ((res[\"C_TOT_op_sum_\"] + res[\"C_TOT_RMI_sum_\"] + res[\"C_TOT_invAnn_sum_\"]) * 1000)/res[\"DH_Dem\"][\"Total\"]\n",
    "#vals1\n",
    "#vals2"
   ]
  },
  {
   "cell_type": "code",
   "execution_count": null,
   "id": "4eec2480",
   "metadata": {},
   "outputs": [],
   "source": [
    "u1 = pd.DataFrame.from_dict(vals1,orient=\"index\",columns=[\"Preis $\\mathrm{H}_2$ pro kg\"])\n",
    "u2 = pd.DataFrame.from_dict(vals2,orient=\"index\",columns=[\"Preis $\\mathrm{H}_2$ pro kWh (rechts)\"])\n",
    "au = u1.plot.bar(title=\"Wasserstoff Kostenentwicklung\", xlabel=\"Jahr\", ylabel=\"Kosten [€/kg]\")\n",
    "u2.plot.bar(title=\"Wasserstoff Kostenentwicklung\", xlabel=\"Jahr\", ylabel=\"Kosten [€/kg]\", secondary_y=True, ax=au, mark_right=False)\n",
    "u"
   ]
  },
  {
   "cell_type": "markdown",
   "id": "2704f9a3",
   "metadata": {},
   "source": [
    "### Show energy flows per year"
   ]
  },
  {
   "cell_type": "code",
   "execution_count": null,
   "id": "d179543d",
   "metadata": {},
   "outputs": [],
   "source": [
    "draf.Scenario.get_all_collector_values = util.my_collector_values"
   ]
  },
  {
   "cell_type": "code",
   "execution_count": null,
   "id": "851bc8bd",
   "metadata": {},
   "outputs": [],
   "source": [
    "sc.year_sankey = 2027"
   ]
  },
  {
   "cell_type": "code",
   "execution_count": null,
   "id": "46f5edbc",
   "metadata": {},
   "outputs": [],
   "source": [
    "cs.plot.sankey_interact()"
   ]
  },
  {
   "cell_type": "markdown",
   "id": "e862a4f7",
   "metadata": {},
   "source": [
    "### Other"
   ]
  },
  {
   "cell_type": "code",
   "execution_count": null,
   "id": "92430995",
   "metadata": {
    "scrolled": false
   },
   "outputs": [],
   "source": [
    "sum(cs.scens.REF.res.P_PV_FI_TY[:,2027]+cs.scens.REF.res.P_PV_OC_TY[:,2027])"
   ]
  },
  {
   "cell_type": "code",
   "execution_count": null,
   "id": "9969912b",
   "metadata": {},
   "outputs": [],
   "source": [
    "sum(cs.scens.REF.res.P_Elc_TY[:,2040])"
   ]
  },
  {
   "cell_type": "code",
   "execution_count": null,
   "id": "ab7344c9",
   "metadata": {},
   "outputs": [],
   "source": [
    "sum(cs.scens.REF.res.dH_HDS_out_TYR[:,:,\"NH3\"][cs.scens.REF.res.dH_HDS_in_TYR[:,:,\"NH3\"] <= 0])"
   ]
  }
 ],
 "metadata": {
  "kernelspec": {
   "display_name": "Python 3 (ipykernel)",
   "language": "python",
   "name": "python3"
  },
  "language_info": {
   "codemirror_mode": {
    "name": "ipython",
    "version": 3
   },
   "file_extension": ".py",
   "mimetype": "text/x-python",
   "name": "python",
   "nbconvert_exporter": "python",
   "pygments_lexer": "ipython3",
   "version": "3.9.16"
  },
  "toc": {
   "base_numbering": 1,
   "nav_menu": {},
   "number_sections": true,
   "sideBar": true,
   "skip_h1_title": false,
   "title_cell": "Table of Contents",
   "title_sidebar": "Contents",
   "toc_cell": false,
   "toc_position": {},
   "toc_section_display": true,
   "toc_window_display": false
  },
  "vscode": {
   "interpreter": {
    "hash": "31f2aee4e71d21fbe5cf8b01ff0e069b9275f58929596ceb00d14d90e3e16cd6"
   }
  }
 },
 "nbformat": 4,
 "nbformat_minor": 5
}
